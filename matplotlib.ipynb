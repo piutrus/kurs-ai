{
  "nbformat": 4,
  "nbformat_minor": 0,
  "metadata": {
    "colab": {
      "provenance": [],
      "authorship_tag": "ABX9TyMahoGjDWcnZkuBwVnEO76u",
      "include_colab_link": true
    },
    "kernelspec": {
      "name": "python3",
      "display_name": "Python 3"
    },
    "language_info": {
      "name": "python"
    }
  },
  "cells": [
    {
      "cell_type": "markdown",
      "metadata": {
        "id": "view-in-github",
        "colab_type": "text"
      },
      "source": [
        "<a href=\"https://colab.research.google.com/github/piutrus/kurs-ai/blob/main/matplotlib.ipynb\" target=\"_parent\"><img src=\"https://colab.research.google.com/assets/colab-badge.svg\" alt=\"Open In Colab\"/></a>"
      ]
    },
    {
      "cell_type": "code",
      "execution_count": null,
      "metadata": {
        "id": "Y8LDrmuWqJ2I"
      },
      "outputs": [],
      "source": [
        "#from mpl_toolkits.mplot3d import Axes3D\n",
        "import matplotlib.pyplot as plt\n",
        "import numpy as np\n",
        "\n",
        "def stat(x, n): return (1 - n**(-x))/(1 + n**(-x))\n",
        "\n",
        "x = np.arange(-10, 10, 0.1)\n",
        "y = np.arange(-5, 5, 0.1)\n",
        "X, Y = np.meshgrid(x, y)\n",
        "Z = stat(X, 2) * stat(Y, 10)\n",
        "fig = plt.figure()\n",
        "ax = fig.add_subplot(1, 1, 1, projection='3d')\n",
        "ax.plot_surface(X, Y, Z, cmap=\"viridis\", label=r\"$z = \\lambda(x, 2) \\lambda(y, 10)$\")\n",
        "ax.legend()\n",
        "ax.set_box_aspect([2, 1, 1])\n",
        "plt.show()\n",
        "#plt.savefig(\"wykres3D.png\")"
      ]
    },
    {
      "cell_type": "code",
      "source": [
        "import matplotlib.pyplot as plt\n",
        "import numpy as np\n",
        "\n",
        "def f(x): return (1 - np.exp(-x))/(1 + np.exp(-x))\n",
        "\n",
        "X = np.arange(-10, 10, .1)\n",
        "Y = f(X)\n",
        "\n",
        "fig, ax = plt.subplots(figsize = (12.8, 4.8))\n",
        "ax.plot(X, Y, label = r\"$y = \\frac{1 - e^{-x}}{1 + e^{-x}}$\")\n",
        "\n",
        "ax.spines[\"left\"].set_position(\"zero\")\n",
        "ax.spines[\"bottom\"].set_position(\"zero\")\n",
        "ax.spines[\"right\"].set_visible(False)\n",
        "ax.spines[\"top\"].set_visible(False)\n",
        "ax.set_box_aspect(.5)\n",
        "\n",
        "plt.grid()\n",
        "plt.legend()\n",
        "plt.show()"
      ],
      "metadata": {
        "id": "teYAQqgIYMjk"
      },
      "execution_count": null,
      "outputs": []
    }
  ]
}