{
  "nbformat": 4,
  "nbformat_minor": 0,
  "metadata": {
    "colab": {
      "provenance": [],
      "include_colab_link": true
    },
    "kernelspec": {
      "name": "python3",
      "display_name": "Python 3"
    },
    "language_info": {
      "name": "python"
    }
  },
  "cells": [
    {
      "cell_type": "markdown",
      "metadata": {
        "id": "view-in-github",
        "colab_type": "text"
      },
      "source": [
        "<a href=\"https://colab.research.google.com/github/piutrus/kurs-ai/blob/main/matplotlib.ipynb\" target=\"_parent\"><img src=\"https://colab.research.google.com/assets/colab-badge.svg\" alt=\"Open In Colab\"/></a>"
      ]
    },
    {
      "cell_type": "code",
      "execution_count": null,
      "metadata": {
        "id": "Y8LDrmuWqJ2I"
      },
      "outputs": [],
      "source": [
        "#from mpl_toolkits.mplot3d import Axes3D\n",
        "import matplotlib.pyplot as plt\n",
        "import numpy as np\n",
        "\n",
        "def stat(x, n): return (1 - n**(-x))/(1 + n**(-x))\n",
        "\n",
        "x = np.arange(-10, 10, 0.1)\n",
        "y = np.arange(-5, 5, 0.1)\n",
        "X, Y = np.meshgrid(x, y)\n",
        "Z = stat(X, 2) * stat(Y, 10)\n",
        "fig = plt.figure()\n",
        "ax = fig.add_subplot(1, 1, 1, projection='3d')\n",
        "ax.plot_surface(X, Y, Z, cmap=\"viridis\", label=r\"$z = \\lambda(x, 2) \\lambda(y, 10)$\")\n",
        "ax.legend()\n",
        "ax.set_box_aspect([2, 1, 1])\n",
        "plt.show()\n",
        "#plt.savefig(\"wykres3D.png\")"
      ]
    },
    {
      "cell_type": "code",
      "source": [
        "import matplotlib.pyplot as plt\n",
        "import numpy as np\n",
        "\n",
        "def f(x): return (1 - np.exp(-x))/(1 + np.exp(-x))\n",
        "\n",
        "X = np.arange(-10, 10, .1)\n",
        "Y = f(X)\n",
        "\n",
        "fig, ax = plt.subplots(figsize = (12.8, 4.8))\n",
        "ax.plot(X, Y, label = r\"$y = \\frac{1 - e^{-x}}{1 + e^{-x}}$\")\n",
        "\n",
        "ax.spines[[\"left\", \"bottom\"]].set_position(\"zero\")\n",
        "ax.spines[[\"right\", \"top\"]].set_visible(False)\n",
        "ax.plot(1, 0, ls=\"\", marker=\">\", ms=6, color=\"k\", transform=ax.get_yaxis_transform(), clip_on=False)\n",
        "ax.plot(0, 1, ls=\"\", marker=\"^\", ms=6, color=\"k\", transform=ax.get_xaxis_transform(), clip_on=False)\n",
        "ax.set_box_aspect(.5)\n",
        "\n",
        "plt.grid()\n",
        "plt.legend()\n",
        "plt.show()"
      ],
      "metadata": {
        "id": "teYAQqgIYMjk"
      },
      "execution_count": null,
      "outputs": []
    },
    {
      "cell_type": "markdown",
      "source": [
        "1.Wygeneruj wykres funkcji na przedziale od -30 do 30 dla funkcj\n",
        "y = 5x + 131 dla x < -10\n",
        "y = x^2 - 19 dla x >= -10 && x < 10\n",
        "y = (x-9)^2 + 81 dla x >= 10\n",
        "\n",
        "2.Wygeneruj na jednym wykresie wykres funkcji y = cos(x) i y = sin(x)\n",
        "\n",
        "3.Samochód startuje z przyśpieszeniem 2 m/s. Narysuj wykres przebytej drogi i\n",
        "prędkości w czasie 15 sekund ruchu tego pojazdu.\n",
        "Wzór na prędkośc v(t) to a\\*t, a na drogę s(t) = 1/2a*t^2\n",
        "\n",
        "4.Wygeneruj wykres kołowy zawierający skład powietrza. Skład procentowy\n",
        "gazów we wdychan\n",
        "we wdychanym powietrzu wygląda tak: 78% azotu, 21% tlenu, 0,04%\n",
        "dwutlenku węgla oraz 1% pozostałych gazów."
      ],
      "metadata": {
        "id": "ClXZUI5udXOR"
      }
    },
    {
      "cell_type": "code",
      "source": [
        "# ZAD 1\n",
        "import matplotlib.pyplot as plt\n",
        "import numpy as np\n",
        "\n",
        "def f(x):\n",
        "  if x < -10:\n",
        "    return 5*x + 131\n",
        "  elif x >= -10 and x < 10:\n",
        "    return x**2 - 19\n",
        "  elif x >= 10:\n",
        "    return (x-9)**2 + 81\n",
        "f_vec = np.vectorize(f) ## operacje warunkowe nie dzialaja na listach\n",
        "\n",
        "X = np.arange(-30, 30, .1)\n",
        "Y = f_vec(X)\n",
        "\n",
        "fig, ax = plt.subplots()\n",
        "\n",
        "ax.spines[[\"left\", \"bottom\"]].set_position(\"zero\")\n",
        "ax.spines[[\"right\", \"top\"]].set_visible(False)\n",
        "ax.plot(0, 1, ls=\"\", marker=\"^\", ms=6, color=\"k\", transform=ax.get_xaxis_transform(), clip_on=False)\n",
        "ax.plot(1, 0, ls=\"\", marker=\">\", ms=6, color=\"k\", transform=ax.get_yaxis_transform(), clip_on=False)\n",
        "\n",
        "ax.plot(X, Y)\n",
        "plt.grid()\n",
        "plt.show()"
      ],
      "metadata": {
        "id": "Nye3vf8E50ss"
      },
      "execution_count": null,
      "outputs": []
    },
    {
      "cell_type": "code",
      "source": [
        "# ZAD 2\n",
        "import matplotlib.pyplot as plt\n",
        "import numpy as np\n",
        "\n",
        "X = np.linspace(-2*np.pi, 2*np.pi, 100)\n",
        "Y1 = np.sin(X)\n",
        "Y2 = np.cos(X)\n",
        "\n",
        "fig, ax = plt.subplots()\n",
        "\n",
        "ax.plot(X, Y1, label = r\"$y = \\sin x$\")\n",
        "ax.plot(X, Y2, label = r\"$y = \\cos x$\")\n",
        "\n",
        "plt.legend()\n",
        "plt.grid()\n",
        "plt.show()"
      ],
      "metadata": {
        "id": "OACwNWk98z70"
      },
      "execution_count": null,
      "outputs": []
    },
    {
      "cell_type": "code",
      "source": [
        "# ZAD 3\n",
        "import matplotlib.pyplot as plt\n",
        "import numpy as np\n",
        "\n",
        "a = 2\n",
        "\n",
        "T = np.arange(0, 15, .1)\n",
        "V = a*T\n",
        "S = .5*a*(T**2)\n",
        "\n",
        "fig, ax = plt.subplots()\n",
        "\n",
        "ax.plot(T, V, label=r\"$v_{(t)} \\ [\\frac{m}{s}]$\")\n",
        "ax.plot(T, S, label=r\"$s_{(t)} \\ [m]$\")\n",
        "ax.spines[[\"right\", \"top\"]].set_visible(False)\n",
        "ax.plot(1, 0, ls=\"\", marker=\">\", ms=6, color=\"k\", transform=ax.get_yaxis_transform(), clip_on=False)\n",
        "ax.plot(0, 1, ls=\"\", marker=\"^\", ms=6, color=\"k\", transform=ax.get_xaxis_transform(), clip_on=False)\n",
        "ax.margins(0, 0)\n",
        "\n",
        "ax.set_xlabel(r\"$t \\ [s]$\")\n",
        "ax.set_title(r\"$a = 2 \\ \\frac{m}{s^2}$\")\n",
        "\n",
        "plt.grid()\n",
        "plt.legend()\n",
        "plt.show()"
      ],
      "metadata": {
        "id": "tOQEgXLl1Mk0"
      },
      "execution_count": null,
      "outputs": []
    },
    {
      "cell_type": "code",
      "source": [
        "# ZAD 4\n",
        "import matplotlib.pyplot as plt\n",
        "import numpy as np\n",
        "\n",
        "elements = [\"N\", \"O\", \"Pozostałe\"]\n",
        "prop = [78, 21, 1]\n",
        "\n",
        "plt.pie(prop, labels=elements, explode=(0, 0, .1), autopct=\"%1.1f%%\", shadow=True)\n",
        "\n",
        "plt.show()"
      ],
      "metadata": {
        "id": "3mrpSOD54soF"
      },
      "execution_count": null,
      "outputs": []
    }
  ]
}